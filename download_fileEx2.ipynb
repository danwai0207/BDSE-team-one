{
 "cells": [
  {
   "cell_type": "markdown",
   "metadata": {},
   "source": [
    "Data source: http://www.tse.com.tw/zh/page/trading/exchange/MI_5MINS_INDEX.html  \n",
    "1.from 2004-10-15 to today  \n",
    "2.from today keep update data"
   ]
  },
  {
   "cell_type": "code",
   "execution_count": 7,
   "metadata": {},
   "outputs": [
    {
     "name": "stdout",
     "output_type": "stream",
     "text": [
      "Today is: 2018-08-16\n",
      "Date can't before 2004-10-15\n",
      "From:\n",
      "Year:2018\n",
      "Month:8\n",
      "Day:12\n",
      "To:\n",
      "Year:2018\n",
      "Month:8\n",
      "Day:16\n",
      "Total time: 23.057995557785034\n"
     ]
    }
   ],
   "source": [
    "import datetime as dt\n",
    "import requests\n",
    "import os\n",
    "import time\n",
    "\n",
    "def creat_file():\n",
    "    os.makedirs('./five_sec/', exist_ok=True)    \n",
    "#   creat a forder in local to keep all file. As we creat once, we dont need it anymore.\n",
    "\n",
    "def insert_date_range():\n",
    "    today = dt.date.today()\n",
    "    print('Today is:',today)\n",
    "\n",
    "    print(\"Date can't before 2004-10-15\")\n",
    "    print('From:')\n",
    "    year1=int(input('Year:'))\n",
    "    month1=int(input('Month:'))\n",
    "    day1=int(input('Day:'))\n",
    "    start_date = dt.datetime(year1,month1,day1)\n",
    "    # start_date = dt.datetime.strptime(date1,'%Y-%m-%d').date()\n",
    "\n",
    "    print('To:')\n",
    "    year2=int(input('Year:'))\n",
    "    month2=int(input('Month:'))\n",
    "    day2=int(input('Day:'))\n",
    "    end_date = dt.datetime(year2,month2,day2)\n",
    "    # end_date = dt.datetime.strptime(date1,'%Y-%m-%d').date()\n",
    "\n",
    "    totaldays = (end_date - start_date).days + 1\n",
    "\n",
    "#     print(start_date,type(start_date))\n",
    "#     print(end_date,type(end_date))\n",
    "#     print(end_date-start_date)\n",
    "#     print(totaldays)\n",
    "    return start_date,end_date,totaldays\n",
    "\n",
    "\n",
    "# main\n",
    "# creat_file()\n",
    "t1=time.time()  # record start time\n",
    "start_date,end_date,totaldays=insert_date_range()\n",
    "for daynumber in range(totaldays):\n",
    "    date1=(start_date + dt.timedelta(days = daynumber)).date()\n",
    "    datestring = str(date1)\n",
    "    five_sec_url='http://www.tse.com.tw/exchangeReport/MI_5MINS_INDEX?response=csv&date='+datestring\n",
    "    r = requests.get(five_sec_url)\n",
    "    with open('./five_sec/'+datestring+'.csv','wb')as f:\n",
    "        f.write(r.content)\n",
    "#     print(date1.strftime(\"%Y-%m-%d\")) \n",
    "print('Total time:',time.time()-t1)    # count total time"
   ]
  }
 ],
 "metadata": {
  "kernelspec": {
   "display_name": "Python 3",
   "language": "python",
   "name": "python3"
  },
  "language_info": {
   "codemirror_mode": {
    "name": "ipython",
    "version": 3
   },
   "file_extension": ".py",
   "mimetype": "text/x-python",
   "name": "python",
   "nbconvert_exporter": "python",
   "pygments_lexer": "ipython3",
   "version": "3.6.5"
  }
 },
 "nbformat": 4,
 "nbformat_minor": 2
}
